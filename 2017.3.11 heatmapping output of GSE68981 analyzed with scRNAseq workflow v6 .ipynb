{
 "cells": [
  {
   "cell_type": "code",
   "execution_count": 16,
   "metadata": {
    "collapsed": false
   },
   "outputs": [],
   "source": [
    "library(\"RColorBrewer\")\n",
    "library(\"gplots\")\n",
    "library(\"NMF\")"
   ]
  },
  {
   "cell_type": "code",
   "execution_count": 17,
   "metadata": {
    "collapsed": false
   },
   "outputs": [],
   "source": [
    "hscr1 <- read.delim(file=\"Galaxy1017-[Complete_list_of_transcripts_expressed_HSC_R1_with_FPKM_higher_than_1_in_10_percent_of_the_population].tabular\", header=TRUE, sep=\"\\t\")\n",
    "hscr1tr <- read.delim(file=\"Galaxy565-[Complete_list_of_transcripts_expressed_HSC_R1_TR_with_FPKM_higher_than_1_in_10_percent_of_the_population].tabular\", header=TRUE, sep=\"\\t\")\n",
    "hscr2 <- read.delim(file=\"Galaxy765-[Complete_list_of_transcripts_expressed_in_HSC_R2_with_FPKM_higher_than_1_in_10_percent_of_the_population].tabular\", header=TRUE, sep=\"\\t\")\n",
    "hscr3 <- read.delim(file=\"Galaxy1674-[Complete_list_of_transcripts_expressed_HSC_R3_with_FPKM_higher_than_1_in_10_percent_of_the_population].tabular\", header=TRUE, sep=\"\\t\")\n",
    "\n",
    "\n",
    "mppr1 <- read.delim(file=\"Galaxy535-[Complete_list_of_transcripts_expressed_MPP_R1_with_FPKM_higher_than_1_in_10_percent_of_the_population].tabular\", header=TRUE, sep=\"\\t\")\n",
    "mppr2 <- read.delim(file=\"Galaxy465-[Complete_list_of_transcripts_expressed_MPP_R2_with_FPKM_higher_than_1_in_10_percent_of_the_population].tabular\", header=TRUE, sep=\"\\t\")\n",
    "\n",
    "expressed <- read.delim(file=\"Galaxy8-[Expressed_transcripts_in_MPP-R1,_MPP-R2,_HSC-R1,_HSC-R2,_HSC-R3].tabular\", header=TRUE, sep=\"\\t\")\n",
    "expressedwtr <- read.delim(file=\"Galaxy8-[Expressed_transcripts_in_MPP-R1,_MPP-R2,_HSC-R1,_HSC-R2,_HSC-R3].tabular\", header=TRUE, sep=\"\\t\")\n"
   ]
  },
  {
   "cell_type": "code",
   "execution_count": 18,
   "metadata": {
    "collapsed": true
   },
   "outputs": [],
   "source": [
    "mat_hscr1 <- data.matrix(hscr1[,2:ncol(hscr1)])  \n",
    "lhscr1 <- log(mat_hscr1+1)\n",
    "\n",
    "mat_hscr1tr <- data.matrix(hscr1tr[,2:ncol(hscr1tr)])  \n",
    "lhscr1tr <- log(mat_hscr1tr+1)\n",
    "\n",
    "mat_hscr2 <- data.matrix(hscr2[,2:ncol(hscr2)])  \n",
    "lhscr2 <- log(mat_hscr2+1)\n",
    "\n",
    "mat_hscr3 <- data.matrix(hscr3[,2:ncol(hscr3)])  \n",
    "lhscr3 <- log(mat_hscr3+1)\n",
    "\n",
    "mat_mppr1 <- data.matrix(mppr1[,2:ncol(mppr1)])  \n",
    "lmppr1 <- log(mat_mppr1+1)\n",
    "\n",
    "mat_mppr2 <- data.matrix(mppr2[,2:ncol(mppr2)])  \n",
    "lmppr2 <- log(mat_mppr2+1)\n",
    "\n",
    "mat_expressed <- data.matrix(expressed[,2:ncol(expressed)])  \n",
    "lexpressed <- log(mat_expressed+1)\n",
    "\n",
    "mat_expressedwtr <- data.matrix(expressedwtr[,2:ncol(expressedwtr)])  \n",
    "lexpressedwtr <- log(mat_expressedwtr+1)\n"
   ]
  },
  {
   "cell_type": "code",
   "execution_count": 19,
   "metadata": {
    "collapsed": false
   },
   "outputs": [
    {
     "data": {
      "text/html": [
       "<strong>pdf:</strong> 2"
      ],
      "text/latex": [
       "\\textbf{pdf:} 2"
      ],
      "text/markdown": [
       "**pdf:** 2"
      ],
      "text/plain": [
       "pdf \n",
       "  2 "
      ]
     },
     "metadata": {},
     "output_type": "display_data"
    }
   ],
   "source": [
    "hclust_fun = function(x) hclust(x, method=\"complete\")\n",
    "dist_fun = function(x) dist(x, method=\"maximum\")\n",
    "\n",
    "pdf(file=\"HSC R1 clustered heatmap v6workflow.pdf\")\n",
    "colfunc <- colorRampPalette(c(\"white\", \"red\"))\n",
    "heatmap.2(lhscr1,\n",
    "          distfun=dist_fun, hclustfun=hclust_fun, scale = \"none\",\n",
    "          col=colfunc(50), trace=\"none\", density.info = \"none\",labRow=FALSE, margins=c(8,2),\n",
    "          main = \"expressed genes of HSC R1 (v6workflow)\", key.xlab=\"log10(FPKM+1)\", keysize=1)\n",
    "dev.off()"
   ]
  },
  {
   "cell_type": "code",
   "execution_count": 20,
   "metadata": {
    "collapsed": false
   },
   "outputs": [
    {
     "data": {
      "text/html": [
       "<strong>pdf:</strong> 2"
      ],
      "text/latex": [
       "\\textbf{pdf:} 2"
      ],
      "text/markdown": [
       "**pdf:** 2"
      ],
      "text/plain": [
       "pdf \n",
       "  2 "
      ]
     },
     "metadata": {},
     "output_type": "display_data"
    }
   ],
   "source": [
    "hclust_fun = function(x) hclust(x, method=\"complete\")\n",
    "dist_fun = function(x) dist(x, method=\"maximum\")\n",
    "\n",
    "pdf(file=\"HSC R1-TR clustered heatmap v6workflow.pdf\")\n",
    "colfunc <- colorRampPalette(c(\"white\", \"red\"))\n",
    "heatmap.2(lhscr1tr,\n",
    "          distfun=dist_fun, hclustfun=hclust_fun, scale = \"none\",\n",
    "          col=colfunc(50), trace=\"none\", density.info = \"none\",labRow=FALSE, margins=c(8,2),\n",
    "          main = \"expressed genes of HSC R1-TR (v6workflow)\", key.xlab=\"log10(FPKM+1)\", keysize=1)\n",
    "dev.off()"
   ]
  },
  {
   "cell_type": "code",
   "execution_count": 21,
   "metadata": {
    "collapsed": false
   },
   "outputs": [
    {
     "data": {
      "text/html": [
       "<strong>pdf:</strong> 2"
      ],
      "text/latex": [
       "\\textbf{pdf:} 2"
      ],
      "text/markdown": [
       "**pdf:** 2"
      ],
      "text/plain": [
       "pdf \n",
       "  2 "
      ]
     },
     "metadata": {},
     "output_type": "display_data"
    }
   ],
   "source": [
    "hclust_fun = function(x) hclust(x, method=\"complete\")\n",
    "dist_fun = function(x) dist(x, method=\"maximum\")\n",
    "\n",
    "pdf(file=\"HSC R2 clustered heatmap v6workflow.pdf\")\n",
    "colfunc <- colorRampPalette(c(\"white\", \"red\"))\n",
    "heatmap.2(lhscr2,\n",
    "          distfun=dist_fun, hclustfun=hclust_fun, scale = \"none\",\n",
    "          col=colfunc(50), trace=\"none\", density.info = \"none\",labRow=FALSE, margins=c(8,2),\n",
    "          main = \"expressed genes of HSC R2 (v6workflow)\", key.xlab=\"log10(FPKM+1)\", keysize=1)\n",
    "dev.off()"
   ]
  },
  {
   "cell_type": "code",
   "execution_count": 22,
   "metadata": {
    "collapsed": false
   },
   "outputs": [
    {
     "data": {
      "text/html": [
       "<strong>pdf:</strong> 2"
      ],
      "text/latex": [
       "\\textbf{pdf:} 2"
      ],
      "text/markdown": [
       "**pdf:** 2"
      ],
      "text/plain": [
       "pdf \n",
       "  2 "
      ]
     },
     "metadata": {},
     "output_type": "display_data"
    }
   ],
   "source": [
    "hclust_fun = function(x) hclust(x, method=\"complete\")\n",
    "dist_fun = function(x) dist(x, method=\"maximum\")\n",
    "\n",
    "pdf(file=\"HSC R3 clustered heatmap v6workflow.pdf\")\n",
    "colfunc <- colorRampPalette(c(\"white\", \"red\"))\n",
    "heatmap.2(lhscr3,\n",
    "          distfun=dist_fun, hclustfun=hclust_fun, scale = \"none\",\n",
    "          col=colfunc(50), trace=\"none\", density.info = \"none\",labRow=FALSE, margins=c(8,2),\n",
    "          main = \"expressed genes of HSC R3 (v6workflow)\", key.xlab=\"log10(FPKM+1)\", keysize=1)\n",
    "dev.off()"
   ]
  },
  {
   "cell_type": "code",
   "execution_count": 23,
   "metadata": {
    "collapsed": false
   },
   "outputs": [
    {
     "data": {
      "text/html": [
       "<strong>pdf:</strong> 2"
      ],
      "text/latex": [
       "\\textbf{pdf:} 2"
      ],
      "text/markdown": [
       "**pdf:** 2"
      ],
      "text/plain": [
       "pdf \n",
       "  2 "
      ]
     },
     "metadata": {},
     "output_type": "display_data"
    }
   ],
   "source": [
    "hclust_fun = function(x) hclust(x, method=\"complete\")\n",
    "dist_fun = function(x) dist(x, method=\"maximum\")\n",
    "\n",
    "pdf(file=\"MPP R1 clustered heatmap v6workflow.pdf\")\n",
    "colfunc <- colorRampPalette(c(\"white\", \"red\"))\n",
    "heatmap.2(lmppr1,\n",
    "          distfun=dist_fun, hclustfun=hclust_fun, scale = \"none\",\n",
    "          col=colfunc(50), trace=\"none\", density.info = \"none\",labRow=FALSE, margins=c(8,2),\n",
    "          main = \"expressed genes of MPP R1 (v6workflow)\", key.xlab=\"log10(FPKM+1)\", keysize=1)\n",
    "dev.off()"
   ]
  },
  {
   "cell_type": "code",
   "execution_count": 24,
   "metadata": {
    "collapsed": false
   },
   "outputs": [
    {
     "data": {
      "text/html": [
       "<strong>pdf:</strong> 2"
      ],
      "text/latex": [
       "\\textbf{pdf:} 2"
      ],
      "text/markdown": [
       "**pdf:** 2"
      ],
      "text/plain": [
       "pdf \n",
       "  2 "
      ]
     },
     "metadata": {},
     "output_type": "display_data"
    }
   ],
   "source": [
    "hclust_fun = function(x) hclust(x, method=\"complete\")\n",
    "dist_fun = function(x) dist(x, method=\"maximum\")\n",
    "\n",
    "pdf(file=\"MPP R2 clustered heatmap v6workflow.pdf\")\n",
    "colfunc <- colorRampPalette(c(\"white\", \"red\"))\n",
    "heatmap.2(lmppr2,\n",
    "          distfun=dist_fun, hclustfun=hclust_fun, scale = \"none\",\n",
    "          col=colfunc(50), trace=\"none\", density.info = \"none\",labRow=FALSE, margins=c(8,2),\n",
    "          main = \"expressed genes of MPP R2 (v6workflow)\", key.xlab=\"log10(FPKM+1)\", keysize=1)\n",
    "dev.off()"
   ]
  },
  {
   "cell_type": "code",
   "execution_count": 25,
   "metadata": {
    "collapsed": false
   },
   "outputs": [
    {
     "data": {
      "text/html": [
       "<strong>pdf:</strong> 2"
      ],
      "text/latex": [
       "\\textbf{pdf:} 2"
      ],
      "text/markdown": [
       "**pdf:** 2"
      ],
      "text/plain": [
       "pdf \n",
       "  2 "
      ]
     },
     "metadata": {},
     "output_type": "display_data"
    }
   ],
   "source": [
    "hclust_fun = function(x) hclust(x, method=\"complete\")\n",
    "dist_fun = function(x) dist(x, method=\"maximum\")\n",
    "\n",
    "pdf(file=\"HSC-R1,-R2,-R3 and MPP-R1,-R2 clustered heatmap v6workflow.pdf\")\n",
    "colfunc <- colorRampPalette(c(\"white\", \"red\"))\n",
    "heatmap.2(lexpressed,\n",
    "          distfun=dist_fun, hclustfun=hclust_fun, scale = \"none\",\n",
    "          col=colfunc(50), trace=\"none\", density.info = \"none\",labRow=FALSE, margins=c(8,2),\n",
    "          main = \"expressed genes of HSC-R1,-R2,-R3 and MPP-R1,-R2 (v6workflow)\", key.xlab=\"log10(FPKM+1)\", keysize=1)\n",
    "dev.off()"
   ]
  },
  {
   "cell_type": "code",
   "execution_count": 27,
   "metadata": {
    "collapsed": false
   },
   "outputs": [
    {
     "data": {
      "text/html": [
       "<strong>pdf:</strong> 2"
      ],
      "text/latex": [
       "\\textbf{pdf:} 2"
      ],
      "text/markdown": [
       "**pdf:** 2"
      ],
      "text/plain": [
       "pdf \n",
       "  2 "
      ]
     },
     "metadata": {},
     "output_type": "display_data"
    }
   ],
   "source": [
    "hclust_fun = function(x) hclust(x, method=\"complete\")\n",
    "dist_fun = function(x) dist(x, method=\"maximum\")\n",
    "\n",
    "pdf(file=\"HSC-R1,-R1-TR,-R2,-R3 and MPP-R1,-R2 clustered heatmap v6workflow.pdf\")\n",
    "colfunc <- colorRampPalette(c(\"white\", \"red\"))\n",
    "heatmap.2(lexpressedwtr,\n",
    "          distfun=dist_fun, hclustfun=hclust_fun, scale = \"none\",\n",
    "          col=colfunc(50), trace=\"none\", density.info = \"none\",labRow=FALSE, margins=c(8,2),\n",
    "          main = \"expressed genes of HSC-R1,-R1-TR,-R2,-R3 and MPP-R1,-R2 (v6workflow)\", key.xlab=\"log10(FPKM+1)\", keysize=1)\n",
    "dev.off()"
   ]
  },
  {
   "cell_type": "code",
   "execution_count": 28,
   "metadata": {
    "collapsed": false
   },
   "outputs": [
    {
     "data": {
      "text/html": [
       "<strong>pdf:</strong> 2"
      ],
      "text/latex": [
       "\\textbf{pdf:} 2"
      ],
      "text/markdown": [
       "**pdf:** 2"
      ],
      "text/plain": [
       "pdf \n",
       "  2 "
      ]
     },
     "metadata": {},
     "output_type": "display_data"
    }
   ],
   "source": [
    "hclust_fun = function(x) hclust(x, method=\"complete\")\n",
    "dist_fun = function(x) dist(x, method=\"maximum\")\n",
    "\n",
    "png(file=\"HSC R1 clustered heatmap v6workflow.png\")\n",
    "colfunc <- colorRampPalette(c(\"white\", \"red\"))\n",
    "heatmap.2(lhscr1,\n",
    "          distfun=dist_fun, hclustfun=hclust_fun, scale = \"none\",\n",
    "          col=colfunc(50), trace=\"none\", density.info = \"none\",labRow=FALSE, margins=c(8,2),\n",
    "          main = \"expressed genes of HSC R1 (v6workflow)\", key.xlab=\"log10(FPKM+1)\", keysize=1)\n",
    "dev.off()"
   ]
  },
  {
   "cell_type": "code",
   "execution_count": 29,
   "metadata": {
    "collapsed": false
   },
   "outputs": [
    {
     "data": {
      "text/html": [
       "<strong>pdf:</strong> 2"
      ],
      "text/latex": [
       "\\textbf{pdf:} 2"
      ],
      "text/markdown": [
       "**pdf:** 2"
      ],
      "text/plain": [
       "pdf \n",
       "  2 "
      ]
     },
     "metadata": {},
     "output_type": "display_data"
    }
   ],
   "source": [
    "hclust_fun = function(x) hclust(x, method=\"complete\")\n",
    "dist_fun = function(x) dist(x, method=\"maximum\")\n",
    "\n",
    "png(file=\"HSC R1-TR clustered heatmap v6workflow.png\")\n",
    "colfunc <- colorRampPalette(c(\"white\", \"red\"))\n",
    "heatmap.2(lhscr1tr,\n",
    "          distfun=dist_fun, hclustfun=hclust_fun, scale = \"none\",\n",
    "          col=colfunc(50), trace=\"none\", density.info = \"none\",labRow=FALSE, margins=c(8,2),\n",
    "          main = \"expressed genes of HSC R1-TR (v6workflow)\", key.xlab=\"log10(FPKM+1)\", keysize=1)\n",
    "dev.off()"
   ]
  },
  {
   "cell_type": "code",
   "execution_count": 30,
   "metadata": {
    "collapsed": false
   },
   "outputs": [
    {
     "data": {
      "text/html": [
       "<strong>pdf:</strong> 2"
      ],
      "text/latex": [
       "\\textbf{pdf:} 2"
      ],
      "text/markdown": [
       "**pdf:** 2"
      ],
      "text/plain": [
       "pdf \n",
       "  2 "
      ]
     },
     "metadata": {},
     "output_type": "display_data"
    }
   ],
   "source": [
    "hclust_fun = function(x) hclust(x, method=\"complete\")\n",
    "dist_fun = function(x) dist(x, method=\"maximum\")\n",
    "\n",
    "png(file=\"HSC R2 clustered heatmap v6workflow.png\")\n",
    "colfunc <- colorRampPalette(c(\"white\", \"red\"))\n",
    "heatmap.2(lhscr2,\n",
    "          distfun=dist_fun, hclustfun=hclust_fun, scale = \"none\",\n",
    "          col=colfunc(50), trace=\"none\", density.info = \"none\",labRow=FALSE, margins=c(8,2),\n",
    "          main = \"expressed genes of HSC R2 (v6workflow)\", key.xlab=\"log10(FPKM+1)\", keysize=1)\n",
    "dev.off()"
   ]
  },
  {
   "cell_type": "code",
   "execution_count": 31,
   "metadata": {
    "collapsed": false
   },
   "outputs": [
    {
     "data": {
      "text/html": [
       "<strong>pdf:</strong> 2"
      ],
      "text/latex": [
       "\\textbf{pdf:} 2"
      ],
      "text/markdown": [
       "**pdf:** 2"
      ],
      "text/plain": [
       "pdf \n",
       "  2 "
      ]
     },
     "metadata": {},
     "output_type": "display_data"
    }
   ],
   "source": [
    "hclust_fun = function(x) hclust(x, method=\"complete\")\n",
    "dist_fun = function(x) dist(x, method=\"maximum\")\n",
    "\n",
    "png(file=\"HSC R3 clustered heatmap v6workflow.png\")\n",
    "colfunc <- colorRampPalette(c(\"white\", \"red\"))\n",
    "heatmap.2(lhscr3,\n",
    "          distfun=dist_fun, hclustfun=hclust_fun, scale = \"none\",\n",
    "          col=colfunc(50), trace=\"none\", density.info = \"none\",labRow=FALSE, margins=c(8,2),\n",
    "          main = \"expressed genes of HSC R3 (v6workflow)\", key.xlab=\"log10(FPKM+1)\", keysize=1)\n",
    "dev.off()"
   ]
  },
  {
   "cell_type": "code",
   "execution_count": 32,
   "metadata": {
    "collapsed": false
   },
   "outputs": [
    {
     "data": {
      "text/html": [
       "<strong>pdf:</strong> 2"
      ],
      "text/latex": [
       "\\textbf{pdf:} 2"
      ],
      "text/markdown": [
       "**pdf:** 2"
      ],
      "text/plain": [
       "pdf \n",
       "  2 "
      ]
     },
     "metadata": {},
     "output_type": "display_data"
    }
   ],
   "source": [
    "hclust_fun = function(x) hclust(x, method=\"complete\")\n",
    "dist_fun = function(x) dist(x, method=\"maximum\")\n",
    "\n",
    "png(file=\"MPP R1 clustered heatmap v6workflow.png\")\n",
    "colfunc <- colorRampPalette(c(\"white\", \"red\"))\n",
    "heatmap.2(lmppr1,\n",
    "          distfun=dist_fun, hclustfun=hclust_fun, scale = \"none\",\n",
    "          col=colfunc(50), trace=\"none\", density.info = \"none\",labRow=FALSE, margins=c(8,2),\n",
    "          main = \"expressed genes of MPP R1 (v6workflow)\", key.xlab=\"log10(FPKM+1)\", keysize=1)\n",
    "dev.off()"
   ]
  },
  {
   "cell_type": "code",
   "execution_count": 33,
   "metadata": {
    "collapsed": false
   },
   "outputs": [
    {
     "data": {
      "text/html": [
       "<strong>pdf:</strong> 2"
      ],
      "text/latex": [
       "\\textbf{pdf:} 2"
      ],
      "text/markdown": [
       "**pdf:** 2"
      ],
      "text/plain": [
       "pdf \n",
       "  2 "
      ]
     },
     "metadata": {},
     "output_type": "display_data"
    }
   ],
   "source": [
    "hclust_fun = function(x) hclust(x, method=\"complete\")\n",
    "dist_fun = function(x) dist(x, method=\"maximum\")\n",
    "\n",
    "png(file=\"MPP R2 clustered heatmap v6workflow.png\")\n",
    "colfunc <- colorRampPalette(c(\"white\", \"red\"))\n",
    "heatmap.2(lmppr2,\n",
    "          distfun=dist_fun, hclustfun=hclust_fun, scale = \"none\",\n",
    "          col=colfunc(50), trace=\"none\", density.info = \"none\",labRow=FALSE, margins=c(8,2),\n",
    "          main = \"expressed genes of MPP R2 (v6workflow)\", key.xlab=\"log10(FPKM+1)\", keysize=1)\n",
    "dev.off()"
   ]
  },
  {
   "cell_type": "code",
   "execution_count": 34,
   "metadata": {
    "collapsed": false
   },
   "outputs": [
    {
     "data": {
      "text/html": [
       "<strong>pdf:</strong> 2"
      ],
      "text/latex": [
       "\\textbf{pdf:} 2"
      ],
      "text/markdown": [
       "**pdf:** 2"
      ],
      "text/plain": [
       "pdf \n",
       "  2 "
      ]
     },
     "metadata": {},
     "output_type": "display_data"
    }
   ],
   "source": [
    "hclust_fun = function(x) hclust(x, method=\"complete\")\n",
    "dist_fun = function(x) dist(x, method=\"maximum\")\n",
    "\n",
    "png(file=\"HSC-R1,-R2,-R3 and MPP-R1,-R2 clustered heatmap v6workflow.png\")\n",
    "colfunc <- colorRampPalette(c(\"white\", \"red\"))\n",
    "heatmap.2(lexpressed,\n",
    "          distfun=dist_fun, hclustfun=hclust_fun, scale = \"none\",\n",
    "          col=colfunc(50), trace=\"none\", density.info = \"none\",labRow=FALSE, margins=c(8,2),\n",
    "          main = \"expressed genes of HSC-R1,-R2,-R3 and MPP-R1,-R2 (v6workflow)\", key.xlab=\"log10(FPKM+1)\", keysize=1)\n",
    "dev.off()"
   ]
  },
  {
   "cell_type": "code",
   "execution_count": 35,
   "metadata": {
    "collapsed": false
   },
   "outputs": [
    {
     "ename": "ERROR",
     "evalue": "Error in heatmap.2(lexpressedwrt, distfun = dist_fun, hclustfun = hclust_fun, : object 'lexpressedwrt' not found\n",
     "output_type": "error",
     "traceback": [
      "Error in heatmap.2(lexpressedwrt, distfun = dist_fun, hclustfun = hclust_fun, : object 'lexpressedwrt' not found\nTraceback:\n",
      "1. heatmap.2(lexpressedwrt, distfun = dist_fun, hclustfun = hclust_fun, \n .     scale = \"none\", col = colfunc(50), trace = \"none\", density.info = \"none\", \n .     labRow = FALSE, margins = c(8, 2), main = \"expressed genes of HSC-R1,-R1-TR,-R2,-R3 and MPP-R1,-R2 (v6workflow)\", \n .     key.xlab = \"log10(FPKM+1)\", keysize = 1)"
     ]
    }
   ],
   "source": [
    "hclust_fun = function(x) hclust(x, method=\"complete\")\n",
    "dist_fun = function(x) dist(x, method=\"maximum\")\n",
    "\n",
    "png(file=\"HSC-R1,-R1-TR,-R2,-R3 and MPP-R1,-R2 clustered heatmap v6workflow.png\")\n",
    "colfunc <- colorRampPalette(c(\"white\", \"red\"))\n",
    "heatmap.2(lexpressedwrt,\n",
    "          distfun=dist_fun, hclustfun=hclust_fun, scale = \"none\",\n",
    "          col=colfunc(50), trace=\"none\", density.info = \"none\",labRow=FALSE, margins=c(8,2),\n",
    "          main = \"expressed genes of HSC-R1,-R1-TR,-R2,-R3 and MPP-R1,-R2 (v6workflow)\", key.xlab=\"log10(FPKM+1)\", keysize=1)\n",
    "dev.off()"
   ]
  },
  {
   "cell_type": "code",
   "execution_count": null,
   "metadata": {
    "collapsed": true
   },
   "outputs": [],
   "source": []
  }
 ],
 "metadata": {
  "anaconda-cloud": {},
  "kernelspec": {
   "display_name": "R",
   "language": "R",
   "name": "ir"
  },
  "language_info": {
   "codemirror_mode": "r",
   "file_extension": ".r",
   "mimetype": "text/x-r-source",
   "name": "R",
   "pygments_lexer": "r",
   "version": "3.3.1"
  }
 },
 "nbformat": 4,
 "nbformat_minor": 0
}
